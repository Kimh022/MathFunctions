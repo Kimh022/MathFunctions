{
  "nbformat": 4,
  "nbformat_minor": 0,
  "metadata": {
    "colab": {
      "provenance": []
    },
    "kernelspec": {
      "name": "python3",
      "display_name": "Python 3"
    },
    "language_info": {
      "name": "python"
    }
  },
  "cells": [
    {
      "cell_type": "code",
      "execution_count": null,
      "metadata": {
        "id": "W72LNU5txD6V"
      },
      "outputs": [],
      "source": [
        "def square (x):\n",
        "  return x*x"
      ]
    },
    {
      "cell_type": "code",
      "source": [
        "square(5)"
      ],
      "metadata": {
        "colab": {
          "base_uri": "https://localhost:8080/"
        },
        "id": "idg2bvRWxL61",
        "outputId": "8545eff8-836b-4ddf-f333-f3c2378545f7"
      },
      "execution_count": null,
      "outputs": [
        {
          "output_type": "execute_result",
          "data": {
            "text/plain": [
              "25"
            ]
          },
          "metadata": {},
          "execution_count": 4
        }
      ]
    },
    {
      "cell_type": "code",
      "source": [
        "def mymean(x):\n",
        "  n = len(x)\n",
        "  return sum(x)/n"
      ],
      "metadata": {
        "id": "M5INuvb7xQg1"
      },
      "execution_count": null,
      "outputs": []
    },
    {
      "cell_type": "code",
      "source": [
        "x = [1,2,3]\n",
        "mymean(x)"
      ],
      "metadata": {
        "colab": {
          "base_uri": "https://localhost:8080/"
        },
        "id": "Fncf_MYMxi23",
        "outputId": "6ce5db18-4163-4d7e-ef77-cd7f7c12d6b8"
      },
      "execution_count": null,
      "outputs": [
        {
          "output_type": "execute_result",
          "data": {
            "text/plain": [
              "2.0"
            ]
          },
          "metadata": {},
          "execution_count": 7
        }
      ]
    },
    {
      "cell_type": "code",
      "source": [
        "mymean(range(100))\n"
      ],
      "metadata": {
        "colab": {
          "base_uri": "https://localhost:8080/"
        },
        "id": "88rgxsZQxpU6",
        "outputId": "8c14b17f-3eac-48f1-e3d6-913d50b449e5"
      },
      "execution_count": null,
      "outputs": [
        {
          "output_type": "execute_result",
          "data": {
            "text/plain": [
              "49.5"
            ]
          },
          "metadata": {},
          "execution_count": 12
        }
      ]
    },
    {
      "cell_type": "code",
      "source": [
        "mymean(range(10))"
      ],
      "metadata": {
        "colab": {
          "base_uri": "https://localhost:8080/"
        },
        "id": "1w6gwfF4xrSl",
        "outputId": "536ec697-86ef-4f41-853d-3e43d052dbe3"
      },
      "execution_count": null,
      "outputs": [
        {
          "output_type": "execute_result",
          "data": {
            "text/plain": [
              "4.5"
            ]
          },
          "metadata": {},
          "execution_count": 11
        }
      ]
    },
    {
      "cell_type": "code",
      "source": [
        "import math"
      ],
      "metadata": {
        "id": "BZ_Jihg9xvni"
      },
      "execution_count": null,
      "outputs": []
    },
    {
      "cell_type": "code",
      "source": [
        "def mysd(x):\n",
        "  xmean = mymean(x)\n",
        "  mysum = 0.0\n",
        "  n = len(x)\n",
        "  for i in range(n):\n",
        "    mysum += (x[i]-xmean)**2\n",
        "  return math.sqrt(mysum/n-1)"
      ],
      "metadata": {
        "id": "CUwS87Shxybw"
      },
      "execution_count": null,
      "outputs": []
    },
    {
      "cell_type": "code",
      "source": [
        "x = [1,2,3,4,5,6,7,8,9,10]\n",
        "mysd(x)"
      ],
      "metadata": {
        "colab": {
          "base_uri": "https://localhost:8080/"
        },
        "id": "-Caoib3mxzya",
        "outputId": "4f741e14-88ea-4d41-ca40-e4583909a7c4"
      },
      "execution_count": null,
      "outputs": [
        {
          "output_type": "stream",
          "name": "stdout",
          "text": [
            "5.5\n",
            "82.5\n"
          ]
        },
        {
          "output_type": "execute_result",
          "data": {
            "text/plain": [
              "2.692582403567252"
            ]
          },
          "metadata": {},
          "execution_count": 22
        }
      ]
    },
    {
      "cell_type": "code",
      "source": [
        "def fac(n):\n",
        "  if n == 0:\n",
        "    return 1\n",
        "  return n*fac(n-1)"
      ],
      "metadata": {
        "id": "YZlEo-RIyZi4"
      },
      "execution_count": null,
      "outputs": []
    },
    {
      "cell_type": "code",
      "source": [
        "fac(5)"
      ],
      "metadata": {
        "colab": {
          "base_uri": "https://localhost:8080/"
        },
        "id": "XpaarLY2z23w",
        "outputId": "b9dd44e1-f821-4206-fbf3-f03bc82e2110"
      },
      "execution_count": null,
      "outputs": [
        {
          "output_type": "execute_result",
          "data": {
            "text/plain": [
              "120"
            ]
          },
          "metadata": {},
          "execution_count": 25
        }
      ]
    },
    {
      "cell_type": "code",
      "source": [
        "def fib(n):\n",
        "  if n== 0:\n",
        "    return 0\n",
        "  elif n == 1:\n",
        "    return 1\n",
        "  return fib(n-2) + fib(n-1)"
      ],
      "metadata": {
        "id": "y_Qy6S5_z4A5"
      },
      "execution_count": null,
      "outputs": []
    },
    {
      "cell_type": "code",
      "source": [
        "fib(10)"
      ],
      "metadata": {
        "colab": {
          "base_uri": "https://localhost:8080/"
        },
        "id": "4cgpfTxf0OvO",
        "outputId": "01ce5e6f-ba49-4016-c2ea-77645f33bffe"
      },
      "execution_count": null,
      "outputs": [
        {
          "output_type": "execute_result",
          "data": {
            "text/plain": [
              "55"
            ]
          },
          "metadata": {},
          "execution_count": 27
        }
      ]
    },
    {
      "cell_type": "code",
      "source": [
        "fib(20)"
      ],
      "metadata": {
        "colab": {
          "base_uri": "https://localhost:8080/"
        },
        "id": "gGGQod7R0RcO",
        "outputId": "50c30793-ef78-4591-d2bb-67458017cde2"
      },
      "execution_count": null,
      "outputs": [
        {
          "output_type": "execute_result",
          "data": {
            "text/plain": [
              "6765"
            ]
          },
          "metadata": {},
          "execution_count": 28
        }
      ]
    },
    {
      "cell_type": "code",
      "source": [
        "def piapprox(n):\n",
        "  def term(i):\n",
        "    return (-1)**i/(2*i+1)\n",
        "  psum = 0.0\n",
        "  for i in range(n):\n",
        "    psum += term(i)\n",
        "  return 4*psum"
      ],
      "metadata": {
        "id": "2SHQkKqu0SEs"
      },
      "execution_count": null,
      "outputs": []
    },
    {
      "cell_type": "code",
      "source": [
        "piapprox(152)"
      ],
      "metadata": {
        "colab": {
          "base_uri": "https://localhost:8080/"
        },
        "id": "Bq-N4s3p054B",
        "outputId": "813b8c21-187c-4ec4-a48d-63b22dae01f1"
      },
      "execution_count": null,
      "outputs": [
        {
          "output_type": "execute_result",
          "data": {
            "text/plain": [
              "3.1350137774059244"
            ]
          },
          "metadata": {},
          "execution_count": 79
        }
      ]
    },
    {
      "cell_type": "code",
      "source": [
        "import pandas as pd"
      ],
      "metadata": {
        "id": "i9yrSxIN07hg"
      },
      "execution_count": null,
      "outputs": []
    },
    {
      "cell_type": "code",
      "source": [],
      "metadata": {
        "id": "SH3edvr4tsvp"
      },
      "execution_count": null,
      "outputs": []
    }
  ]
}